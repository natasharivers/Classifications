{
 "cells": [
  {
   "cell_type": "markdown",
   "metadata": {},
   "source": [
    "# Machine Learning Overview\n",
    "\n",
    "- \"a thing labeler\""
   ]
  },
  {
   "cell_type": "markdown",
   "metadata": {},
   "source": [
    "## Questions that we can answer with Data Science Methods:\n",
    "A) Is this new observation A or B (or C, D, or E) (**Classification**)\n",
    "\n",
    "B) How Many or How Much of something (**Regression**)\n",
    "\n",
    "C) What groupings exist in the data already (**Clustering**)\n",
    "\n",
    "D) What should we expect to happen next? (**Time Series \n",
    "Analysis**)\n",
    "\n",
    "E) Is this weird? (**Anomaly Detection**)"
   ]
  },
  {
   "cell_type": "markdown",
   "metadata": {},
   "source": [
    "## A) Classification \n",
    "\n",
    "- a supervised learning task\n",
    "- have a label established\n",
    "- give a computer options\n",
    "- can only define what you told it to define\n",
    "- discrete variable"
   ]
  },
  {
   "cell_type": "markdown",
   "metadata": {},
   "source": [
    "## B) Regression:\n",
    "\n",
    "- looking at a value we want to predict\n",
    "- continous variable"
   ]
  },
  {
   "cell_type": "markdown",
   "metadata": {},
   "source": [
    "## C) Clustering:\n",
    "\n",
    "- unsupervised learning\n",
    "- there is no label\n",
    "- feeding a wide array of items into the computer\n",
    "    - groups together like items \n",
    "        - (ex): these items have ears, these have scales, etc"
   ]
  },
  {
   "cell_type": "markdown",
   "metadata": {},
   "source": [
    "## D) Time Series Analysis\n",
    "\n",
    "- project something based on a timeline\n",
    "    - (ex): project next year's sales based on current trends"
   ]
  },
  {
   "cell_type": "markdown",
   "metadata": {},
   "source": [
    "## E) Anomaly Detection"
   ]
  },
  {
   "cell_type": "markdown",
   "metadata": {},
   "source": [
    "____________"
   ]
  },
  {
   "cell_type": "markdown",
   "metadata": {},
   "source": [
    "\n",
    "### Traditional Programing:\n",
    "- input: rules\n",
    "- input: data\n",
    "\n",
    "- returns: the answer\"\n",
    "    \n",
    "### Machine Learning\n",
    "- input: data\n",
    "- input: answers\n",
    "- returns: Rules"
   ]
  },
  {
   "cell_type": "markdown",
   "metadata": {},
   "source": [
    "_________________"
   ]
  },
  {
   "cell_type": "markdown",
   "metadata": {},
   "source": [
    "## Classification"
   ]
  },
  {
   "cell_type": "markdown",
   "metadata": {},
   "source": [
    "- we use labeled data to train algorithms to classify future data points.\n",
    "- The training data allows us to train an algorithm to produce a decision rule\n",
    "- Using a boundary between points or a distance between points, we classify new datapoints into A or B (or C or D or E)"
   ]
  },
  {
   "cell_type": "code",
   "execution_count": null,
   "metadata": {},
   "outputs": [],
   "source": [
    "#sklearn library"
   ]
  },
  {
   "cell_type": "markdown",
   "metadata": {},
   "source": [
    "# Data Prepeartion Needs\n",
    "\n",
    "- 70-90% of your work time\n",
    "    - data has to have integrity and labels that you need\n",
    "\n"
   ]
  },
  {
   "cell_type": "markdown",
   "metadata": {},
   "source": [
    "# Logistic Regression\n",
    "\n",
    "- predicts binary outcomes\n",
    "- it is a regression algorithm\n",
    "    - the goal is to find the values of the coefficients that weigh each input variable\n",
    "- the output is a value between 0 and 1\n",
    "\n",
    "- easy to figure out either side of the curve BUT the center of the curve gives difficulty\n",
    "    - have to rely on known data and a decision will be made\n",
    "- \"very good **baseline** parameter\""
   ]
  },
  {
   "cell_type": "markdown",
   "metadata": {},
   "source": [
    "_________"
   ]
  },
  {
   "cell_type": "markdown",
   "metadata": {},
   "source": [
    "# Decision Tree\n",
    "**CART: classification and regression trees**\n",
    "    \n",
    "##### What is it?\n",
    "- a sequence of rules used to classify 2 or more classes\n",
    "\n",
    "- **first**, ask the bluntest question that gives you the most\n",
    "\n",
    "- (ex): asking 20 questions to a datapoint\n",
    "    - what color is it--> narrow down\n",
    "        - what size is it ---> narrow dow\n",
    "            -  whats the shape ---> keep narrowing\n",
    "\n",
    "##### Pros:\n",
    "- simple to understand and visualize\n",
    "- requires litle data prep\n",
    "- can handle numerical and categorical data\n",
    "- performs wel with broad range of problems\n",
    "    \n",
    "##### Cons: \n",
    "- risk of overfitting (too specific)\n",
    "- can be unstable"
   ]
  },
  {
   "cell_type": "markdown",
   "metadata": {},
   "source": [
    "___________"
   ]
  },
  {
   "cell_type": "markdown",
   "metadata": {},
   "source": [
    "# Random Forest\n",
    "\n",
    "##### What is it?\n",
    "- take a bunch of non-ideal trees and takes a majority vote\n",
    "- takes bootstrapped/bagged algorithms\n",
    "\n",
    "##### Pros:\n",
    "- less risk of overfitting than decision tree\n",
    "- more accurate than decision tree\n",
    "   \n",
    "##### Cons: \n",
    "- high demand on computer \n",
    "- difficult to implement\n",
    "- difficult to explain"
   ]
  },
  {
   "cell_type": "markdown",
   "metadata": {},
   "source": [
    "__________"
   ]
  },
  {
   "cell_type": "markdown",
   "metadata": {},
   "source": [
    "# K-Nearest Neighbor\n",
    "\n",
    "##### What is it?\n",
    "- lazy algorithm\n",
    "- makes simple decision based on whats fed into it\n",
    "- takes distance from closest neighbors and says it is that color\n",
    "    - (ex): 4 blue neighbors, 1 red neighbor, 1 green = your blue\n",
    "- \"k\" indicates the neighbors\n",
    "\n",
    "##### Pros:\n",
    "- simple to implement\n",
    "- robust to noise\n",
    "- performs the calculation when you need it, not ahead of time\n",
    "   \n",
    "##### Cons: \n",
    "- high demand on computer \n",
    "- need to determain value of K\n"
   ]
  },
  {
   "cell_type": "markdown",
   "metadata": {},
   "source": [
    "_________"
   ]
  },
  {
   "cell_type": "markdown",
   "metadata": {},
   "source": [
    "# Support Vector Machines\n",
    "\n",
    "##### What is it?\n",
    "- uses higher dimensions to best seperate data points into two classes\n",
    "\n",
    "##### Pros:\n",
    "- effective in high dimensions\n",
    "- memory efficient\n",
    "- high success\n",
    "   \n",
    "##### Cons: \n",
    "- doesnt provide probability estimates \n",
    "\n",
    "\n",
    "**1 class SVM is good at anomaly detection**"
   ]
  },
  {
   "cell_type": "markdown",
   "metadata": {},
   "source": [
    "________"
   ]
  },
  {
   "cell_type": "markdown",
   "metadata": {},
   "source": [
    "# Naïve Bayes\n",
    "\n",
    "##### What is it?\n",
    "- comprised of two types of probabilities:\n",
    "    - probability of each class\n",
    "    - conditional probability for each class given x value\n",
    "\n",
    "##### Pros:\n",
    "- works with smaller samples\n",
    "- very fast\n",
    "- simple and powerful\n",
    "   \n",
    "##### Cons: \n",
    "- can be bad estimator\n"
   ]
  },
  {
   "cell_type": "code",
   "execution_count": null,
   "metadata": {},
   "outputs": [],
   "source": []
  },
  {
   "cell_type": "code",
   "execution_count": null,
   "metadata": {},
   "outputs": [],
   "source": []
  }
 ],
 "metadata": {
  "kernelspec": {
   "display_name": "Python 3",
   "language": "python",
   "name": "python3"
  },
  "language_info": {
   "codemirror_mode": {
    "name": "ipython",
    "version": 3
   },
   "file_extension": ".py",
   "mimetype": "text/x-python",
   "name": "python",
   "nbconvert_exporter": "python",
   "pygments_lexer": "ipython3",
   "version": "3.8.5"
  }
 },
 "nbformat": 4,
 "nbformat_minor": 4
}
