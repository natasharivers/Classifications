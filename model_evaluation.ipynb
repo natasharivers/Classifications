{
 "cells": [
  {
   "cell_type": "code",
   "execution_count": 7,
   "metadata": {},
   "outputs": [],
   "source": [
    "import pandas as pd\n",
    "import numpy as np\n",
    "import seaborn as sns\n",
    "import matplotlib.pyplot as plt\n",
    "from pydataset import data\n",
    "from scipy import stats"
   ]
  },
  {
   "cell_type": "markdown",
   "metadata": {},
   "source": [
    "# Model Evaluation Exercises:\n",
    "1. Create a new file named model_evaluation.py or model_evaluation.ipynb for these exercises.\n",
    "<br>\n",
    "\n",
    "2. Given the following confusion matrix, evaluate (by hand) the model's performance.\n",
    "    \n",
    "    - a. In the context of this problem, what is a false positive?\n",
    "    - b. In the context of this problem, what is a false negative?\n",
    "    - c. How would you describe this model?\n",
    "\n",
    "<br>\n",
    "\n",
    "3. You are working as a datascientist working for Codeup Cody Creator (C3 for short), a rubber-duck manufacturing plant.\n",
    "\n",
    "- Unfortunately, some of the rubber ducks that are produced will have defects. Your team has built several models that try to predict those defects, and the data from their predictions can be found here.\n",
    "\n",
    "- Use the predictions dataset and pandas to help answer the following questions:\n",
    "\n",
    "    a. An internal team wants to investigate the cause of the manufacturing defects. They tell you that they want to identify as many of the ducks that have a defect as possible. Which evaluation metric would be appropriate here? Which model would be the best fit for this use case?\n",
    "\n",
    "    b. Recently several stories in the local news have come out highlighting customers who received a rubber duck with a defect, and portraying C3 in a bad light. The PR team has decided to launch a program that gives customers with a defective duck a vacation to Hawaii. They need you to predict which ducks will have defects, but tell you the really don't want to accidentally give out a vacation package when the duck really doesn't have a defect. Which evaluation metric would be appropriate here? Which model would be the best fit for this use case?\n",
    "\n",
    "<br>\n",
    "\n",
    "4. You are working as a data scientist for Gives You Paws ™, a subscription based service that shows you cute pictures of dogs or cats (or both for an additional fee).\n",
    "\n",
    "- At Gives You Paws, anyone can upload pictures of their cats or dogs. The photos are then put through a two step process. First an automated algorithm tags pictures as either a cat or a dog (Phase I). Next, the photos that have been initially identified are put through another round of review, possibly with some human oversight, before being presented to the users (Phase II).\n",
    "\n",
    "- Several models have already been developed with the data, and you can find their results here.\n",
    "\n",
    "- Given this dataset, use pandas to create a baseline model (i.e. a model that just predicts the most common class) and answer the following questions:\n",
    "\n",
    "        a. In terms of accuracy, how do the various models compare to the baseline model? Are any of the models better than the baseline?\n",
    "        b. Suppose you are working on a team that solely deals with dog pictures. Which of these models would you recomend for Phase I? For Phase II?\n",
    "        c. Suppose you are working on a team that solely deals with cat pictures. Which of these models would you recomend for Phase I? For Phase II?\n",
    "\n",
    "<br>\n",
    "\n",
    "5. Follow the links below to read the documentation about each function, then apply those functions to the data from the previous problem.\n",
    "\n",
    "        a. sklearn.metrics.accuracy_score\n",
    "        b. sklearn.metrics.precision_score\n",
    "        c. sklearn.metrics.recall_score\n",
    "        d. sklearn.metrics.classification_report\n",
    "\n"
   ]
  },
  {
   "cell_type": "markdown",
   "metadata": {},
   "source": [
    "### #2 Given the following confusion matrix, evaluate (by hand) the model's performance."
   ]
  },
  {
   "cell_type": "markdown",
   "metadata": {},
   "source": [
    "|               | pred dog   | pred cat   |\n",
    "|:------------  |-----------:|-----------:|\n",
    "| actual dog    |         46 |         7  |\n",
    "| actual cat    |         13 |         34 |\n"
   ]
  },
  {
   "cell_type": "code",
   "execution_count": null,
   "metadata": {},
   "outputs": [],
   "source": [
    "#dog will be positive, cat will be negative\n",
    "\n",
    "TP= 46\n",
    "TN= 34\n",
    "FP= 13\n",
    "FN= 7"
   ]
  },
  {
   "cell_type": "code",
   "execution_count": 6,
   "metadata": {},
   "outputs": [
    {
     "data": {
      "text/plain": [
       "(0.8, 0.7796610169491526, 0.8679245283018868, 0.723404255319149)"
      ]
     },
     "execution_count": 6,
     "metadata": {},
     "output_type": "execute_result"
    }
   ],
   "source": [
    "accuracy= (46 +34)/ (46+34+7+13) \n",
    "recall= 46/ (46+13) \n",
    "precision= 46/ (46+7) \n",
    "specificity= 34/ (34+13)\n",
    "\n",
    "accuracy, recall, precision, specificity"
   ]
  },
  {
   "cell_type": "markdown",
   "metadata": {},
   "source": [
    "#### a. In the context of this problem, what is a false positive? "
   ]
  },
  {
   "cell_type": "markdown",
   "metadata": {},
   "source": [
    "- A false positive would be: predicting a cat when it's actually a dog"
   ]
  },
  {
   "cell_type": "markdown",
   "metadata": {},
   "source": [
    "#### b. In the context of this problem, what is a false negative? "
   ]
  },
  {
   "cell_type": "markdown",
   "metadata": {},
   "source": [
    "- A false negative would be: predicting a dog when it's actually a cat"
   ]
  },
  {
   "cell_type": "markdown",
   "metadata": {},
   "source": [
    "#### c. How would you describe this model?"
   ]
  },
  {
   "cell_type": "markdown",
   "metadata": {},
   "source": [
    "- This model's accuracy is at 80% "
   ]
  },
  {
   "cell_type": "markdown",
   "metadata": {},
   "source": [
    "________________________"
   ]
  },
  {
   "cell_type": "markdown",
   "metadata": {},
   "source": [
    "### #3. You are working as a datascientist working for Codeup Cody Creator (C3 for short), a rubber-duck manufacturing plant.\n",
    "\n",
    "Unfortunately, some of the rubber ducks that are produced will have defects. Your team has built several models that try to predict those defects, and the data from their predictions can be found here.\n",
    "Use the predictions dataset and pandas to help answer the following questions:\n"
   ]
  },
  {
   "cell_type": "code",
   "execution_count": 10,
   "metadata": {},
   "outputs": [],
   "source": [
    "#import data\n",
    "duck_factory = pd.read_csv('c3.csv')"
   ]
  },
  {
   "cell_type": "code",
   "execution_count": 11,
   "metadata": {},
   "outputs": [
    {
     "data": {
      "text/html": [
       "<div>\n",
       "<style scoped>\n",
       "    .dataframe tbody tr th:only-of-type {\n",
       "        vertical-align: middle;\n",
       "    }\n",
       "\n",
       "    .dataframe tbody tr th {\n",
       "        vertical-align: top;\n",
       "    }\n",
       "\n",
       "    .dataframe thead th {\n",
       "        text-align: right;\n",
       "    }\n",
       "</style>\n",
       "<table border=\"1\" class=\"dataframe\">\n",
       "  <thead>\n",
       "    <tr style=\"text-align: right;\">\n",
       "      <th></th>\n",
       "      <th>actual</th>\n",
       "      <th>model1</th>\n",
       "      <th>model2</th>\n",
       "      <th>model3</th>\n",
       "    </tr>\n",
       "  </thead>\n",
       "  <tbody>\n",
       "    <tr>\n",
       "      <th>0</th>\n",
       "      <td>No Defect</td>\n",
       "      <td>No Defect</td>\n",
       "      <td>Defect</td>\n",
       "      <td>No Defect</td>\n",
       "    </tr>\n",
       "    <tr>\n",
       "      <th>1</th>\n",
       "      <td>No Defect</td>\n",
       "      <td>No Defect</td>\n",
       "      <td>Defect</td>\n",
       "      <td>Defect</td>\n",
       "    </tr>\n",
       "    <tr>\n",
       "      <th>2</th>\n",
       "      <td>No Defect</td>\n",
       "      <td>No Defect</td>\n",
       "      <td>Defect</td>\n",
       "      <td>No Defect</td>\n",
       "    </tr>\n",
       "    <tr>\n",
       "      <th>3</th>\n",
       "      <td>No Defect</td>\n",
       "      <td>Defect</td>\n",
       "      <td>Defect</td>\n",
       "      <td>Defect</td>\n",
       "    </tr>\n",
       "    <tr>\n",
       "      <th>4</th>\n",
       "      <td>No Defect</td>\n",
       "      <td>No Defect</td>\n",
       "      <td>Defect</td>\n",
       "      <td>No Defect</td>\n",
       "    </tr>\n",
       "  </tbody>\n",
       "</table>\n",
       "</div>"
      ],
      "text/plain": [
       "      actual     model1  model2     model3\n",
       "0  No Defect  No Defect  Defect  No Defect\n",
       "1  No Defect  No Defect  Defect     Defect\n",
       "2  No Defect  No Defect  Defect  No Defect\n",
       "3  No Defect     Defect  Defect     Defect\n",
       "4  No Defect  No Defect  Defect  No Defect"
      ]
     },
     "execution_count": 11,
     "metadata": {},
     "output_type": "execute_result"
    }
   ],
   "source": [
    "#get to know your data\n",
    "duck_factory.head()"
   ]
  },
  {
   "cell_type": "code",
   "execution_count": 12,
   "metadata": {},
   "outputs": [
    {
     "name": "stdout",
     "output_type": "stream",
     "text": [
      "<class 'pandas.core.frame.DataFrame'>\n",
      "RangeIndex: 200 entries, 0 to 199\n",
      "Data columns (total 4 columns):\n",
      " #   Column  Non-Null Count  Dtype \n",
      "---  ------  --------------  ----- \n",
      " 0   actual  200 non-null    object\n",
      " 1   model1  200 non-null    object\n",
      " 2   model2  200 non-null    object\n",
      " 3   model3  200 non-null    object\n",
      "dtypes: object(4)\n",
      "memory usage: 6.4+ KB\n"
     ]
    }
   ],
   "source": [
    "#this shows no nulls- all object Dtypes\n",
    "#now we know we can use Chi2 testing if needed\n",
    "duck_factory.info()"
   ]
  },
  {
   "cell_type": "markdown",
   "metadata": {},
   "source": [
    "#### 3a. An internal team wants to investigate the cause of the manufacturing defects. They tell you that they want to identify as many of the ducks that have a defect as possible. Which evaluation metric would be appropriate here? Which model would be the best fit for this use case?"
   ]
  },
  {
   "cell_type": "code",
   "execution_count": 13,
   "metadata": {},
   "outputs": [
    {
     "data": {
      "text/plain": [
       "No Defect    184\n",
       "Defect        16\n",
       "Name: actual, dtype: int64"
      ]
     },
     "execution_count": 13,
     "metadata": {},
     "output_type": "execute_result"
    }
   ],
   "source": [
    "#this will show you the ACTUAL number of defects vs no defects\n",
    "duck_factory.actual.value_counts()"
   ]
  },
  {
   "cell_type": "code",
   "execution_count": 14,
   "metadata": {},
   "outputs": [
    {
     "data": {
      "text/plain": [
       "No Defect    190\n",
       "Defect        10\n",
       "Name: model1, dtype: int64"
      ]
     },
     "execution_count": 14,
     "metadata": {},
     "output_type": "execute_result"
    }
   ],
   "source": [
    "#this will show you the number of defects vs no defects in MODEL 1\n",
    "duck_factory.model1.value_counts()"
   ]
  },
  {
   "cell_type": "code",
   "execution_count": 15,
   "metadata": {},
   "outputs": [
    {
     "data": {
      "text/plain": [
       "No Defect    110\n",
       "Defect        90\n",
       "Name: model2, dtype: int64"
      ]
     },
     "execution_count": 15,
     "metadata": {},
     "output_type": "execute_result"
    }
   ],
   "source": [
    "#this will show you the number of defects vs no defects in MODEL 2\n",
    "duck_factory.model2.value_counts()"
   ]
  },
  {
   "cell_type": "code",
   "execution_count": 16,
   "metadata": {},
   "outputs": [
    {
     "data": {
      "text/plain": [
       "No Defect    101\n",
       "Defect        99\n",
       "Name: model3, dtype: int64"
      ]
     },
     "execution_count": 16,
     "metadata": {},
     "output_type": "execute_result"
    }
   ],
   "source": [
    "#this will show you the number of defects vs no defects in MODEL 3\n",
    "duck_factory.model3.value_counts()"
   ]
  },
  {
   "cell_type": "markdown",
   "metadata": {},
   "source": [
    "**By looking at all 3 models vs the ACTUAL data: we can see that model 1 came the closest to actual data**\n",
    "\n",
    "**Recall** might be the most appropriate because we want to catch all the actually positive cases possible "
   ]
  },
  {
   "cell_type": "markdown",
   "metadata": {},
   "source": [
    "- positive: defects\n",
    "- negative: no defects\n",
    "<br>\n",
    "\n",
    "- TP: say there is a defect and there is a defect\n",
    "- TN: say there is no defect and there is no defect\n",
    "- FP: saying there is a defect, but there is no defect\n",
    "- FN: saying there is no defect, but there is a defect"
   ]
  },
  {
   "cell_type": "code",
   "execution_count": 17,
   "metadata": {},
   "outputs": [],
   "source": [
    "#to receive these results, I need a crosstab of actual and modeled data\n",
    "#because 'model 1' was the most accurate.. I will use model 1"
   ]
  },
  {
   "cell_type": "code",
   "execution_count": 18,
   "metadata": {},
   "outputs": [
    {
     "data": {
      "text/html": [
       "<div>\n",
       "<style scoped>\n",
       "    .dataframe tbody tr th:only-of-type {\n",
       "        vertical-align: middle;\n",
       "    }\n",
       "\n",
       "    .dataframe tbody tr th {\n",
       "        vertical-align: top;\n",
       "    }\n",
       "\n",
       "    .dataframe thead th {\n",
       "        text-align: right;\n",
       "    }\n",
       "</style>\n",
       "<table border=\"1\" class=\"dataframe\">\n",
       "  <thead>\n",
       "    <tr style=\"text-align: right;\">\n",
       "      <th>model1</th>\n",
       "      <th>Defect</th>\n",
       "      <th>No Defect</th>\n",
       "    </tr>\n",
       "    <tr>\n",
       "      <th>actual</th>\n",
       "      <th></th>\n",
       "      <th></th>\n",
       "    </tr>\n",
       "  </thead>\n",
       "  <tbody>\n",
       "    <tr>\n",
       "      <th>Defect</th>\n",
       "      <td>8</td>\n",
       "      <td>8</td>\n",
       "    </tr>\n",
       "    <tr>\n",
       "      <th>No Defect</th>\n",
       "      <td>2</td>\n",
       "      <td>182</td>\n",
       "    </tr>\n",
       "  </tbody>\n",
       "</table>\n",
       "</div>"
      ],
      "text/plain": [
       "model1     Defect  No Defect\n",
       "actual                      \n",
       "Defect          8          8\n",
       "No Defect       2        182"
      ]
     },
     "execution_count": 18,
     "metadata": {},
     "output_type": "execute_result"
    }
   ],
   "source": [
    "pd.crosstab(duck_factory.actual, duck_factory.model1)"
   ]
  },
  {
   "cell_type": "code",
   "execution_count": 20,
   "metadata": {},
   "outputs": [],
   "source": [
    "tp= 8\n",
    "tn= 182\n",
    "fp= 2\n",
    "fn= 8"
   ]
  },
  {
   "cell_type": "code",
   "execution_count": 21,
   "metadata": {},
   "outputs": [
    {
     "data": {
      "text/plain": [
       "0.5"
      ]
     },
     "execution_count": 21,
     "metadata": {},
     "output_type": "execute_result"
    }
   ],
   "source": [
    "recall= tp/ (tp+fn)\n",
    "recall"
   ]
  },
  {
   "cell_type": "code",
   "execution_count": null,
   "metadata": {},
   "outputs": [],
   "source": []
  },
  {
   "cell_type": "code",
   "execution_count": 62,
   "metadata": {},
   "outputs": [],
   "source": [
    "positive = 'Defect'\n",
    "\n",
    "subset_duck= duck_factory[duck_factory.actual == positive]"
   ]
  },
  {
   "cell_type": "code",
   "execution_count": 63,
   "metadata": {},
   "outputs": [
    {
     "name": "stdout",
     "output_type": "stream",
     "text": [
      "Recall rate for model1 is 50.00%\n",
      "Recall rate for model2 is 56.25%\n",
      "Recall rate for model3 is 81.25%\n"
     ]
    }
   ],
   "source": [
    "recall_duck1 = (subset_duck.actual == subset_duck.model1).mean()\n",
    "recall_duck2 =(subset_duck.actual == subset_duck.model2).mean()\n",
    "recall_duck3 = (subset_duck.actual == subset_duck.model3).mean()\n",
    "    \n",
    "print(f'Recall rate for model1 is{recall_duck1: .2%}')\n",
    "print(f'Recall rate for model2 is{recall_duck2: .2%}')\n",
    "print(f'Recall rate for model3 is{recall_duck3: .2%}')"
   ]
  },
  {
   "cell_type": "markdown",
   "metadata": {},
   "source": [
    "#### 3b. Recently several stories in the local news have come out highlighting customers who received a rubber duck with a defect, and portraying C3 in a bad light. The PR team has decided to launch a program that gives customers with a defective duck a vacation to Hawaii. They need you to predict which ducks will have defects, but tell you the really don't want to accidentally give out a vacation package when the duck really doesn't have a defect. Which evaluation metric would be appropriate here? Which model would be the best fit for this use case?"
   ]
  },
  {
   "cell_type": "code",
   "execution_count": null,
   "metadata": {},
   "outputs": [],
   "source": [
    "# we want to avoid false positives because giving away a Hawaiin vacation would be very expensive. \n",
    "# so we would use precision"
   ]
  },
  {
   "cell_type": "code",
   "execution_count": 65,
   "metadata": {},
   "outputs": [
    {
     "name": "stdout",
     "output_type": "stream",
     "text": [
      "Precision rate for model1 is 80.00%\n",
      "Precision rate for model2 is 10.00%\n",
      "Precision rate for model3 is 13.13%\n"
     ]
    }
   ],
   "source": [
    "subset1= duck_factory[duck_factory.model1 == positive]\n",
    "subset2= duck_factory[duck_factory.model2 == positive]\n",
    "subset3= duck_factory[duck_factory.model3 == positive]\n",
    "\n",
    "precision1 = (subset1.model1 == subset1.actual).mean()\n",
    "precision2 = (subset2.model2 == subset2.actual).mean()\n",
    "precision3 = (subset3.model3 == subset3.actual).mean()\n",
    "\n",
    "print(f'Precision rate for model1 is{precision1: .2%}')\n",
    "print(f'Precision rate for model2 is{precision2: .2%}')\n",
    "print(f'Precision rate for model3 is{precision3: .2%}')"
   ]
  },
  {
   "cell_type": "markdown",
   "metadata": {},
   "source": [
    "___________"
   ]
  },
  {
   "cell_type": "markdown",
   "metadata": {},
   "source": [
    "### 4. You are working as a data scientist for Gives You Paws ™, a subscription based service that shows you cute pictures of dogs or cats (or both for an additional fee).\n",
    "\n",
    "At Gives You Paws, anyone can upload pictures of their cats or dogs. The photos are then put through a two step process. First an automated algorithm tags pictures as either a cat or a dog (Phase I). Next, the photos that have been initially identified are put through another round of review, possibly with some human oversight, before being presented to the users (Phase II).\n",
    "\n",
    "Several models have already been developed with the data, and you can find their results here.\n",
    "\n",
    "Given this dataset, use pandas to create a baseline model (i.e. a model that just predicts the most common class) and answer the following questions:\n",
    "  "
   ]
  },
  {
   "cell_type": "code",
   "execution_count": 22,
   "metadata": {},
   "outputs": [],
   "source": [
    "#import file\n",
    "paws = pd.read_csv('gives_you_paws.csv')"
   ]
  },
  {
   "cell_type": "code",
   "execution_count": 25,
   "metadata": {},
   "outputs": [
    {
     "data": {
      "text/html": [
       "<div>\n",
       "<style scoped>\n",
       "    .dataframe tbody tr th:only-of-type {\n",
       "        vertical-align: middle;\n",
       "    }\n",
       "\n",
       "    .dataframe tbody tr th {\n",
       "        vertical-align: top;\n",
       "    }\n",
       "\n",
       "    .dataframe thead th {\n",
       "        text-align: right;\n",
       "    }\n",
       "</style>\n",
       "<table border=\"1\" class=\"dataframe\">\n",
       "  <thead>\n",
       "    <tr style=\"text-align: right;\">\n",
       "      <th></th>\n",
       "      <th>actual</th>\n",
       "      <th>model1</th>\n",
       "      <th>model2</th>\n",
       "      <th>model3</th>\n",
       "      <th>model4</th>\n",
       "    </tr>\n",
       "  </thead>\n",
       "  <tbody>\n",
       "    <tr>\n",
       "      <th>0</th>\n",
       "      <td>cat</td>\n",
       "      <td>cat</td>\n",
       "      <td>dog</td>\n",
       "      <td>cat</td>\n",
       "      <td>dog</td>\n",
       "    </tr>\n",
       "    <tr>\n",
       "      <th>1</th>\n",
       "      <td>dog</td>\n",
       "      <td>dog</td>\n",
       "      <td>cat</td>\n",
       "      <td>cat</td>\n",
       "      <td>dog</td>\n",
       "    </tr>\n",
       "    <tr>\n",
       "      <th>2</th>\n",
       "      <td>dog</td>\n",
       "      <td>cat</td>\n",
       "      <td>cat</td>\n",
       "      <td>cat</td>\n",
       "      <td>dog</td>\n",
       "    </tr>\n",
       "    <tr>\n",
       "      <th>3</th>\n",
       "      <td>dog</td>\n",
       "      <td>dog</td>\n",
       "      <td>dog</td>\n",
       "      <td>cat</td>\n",
       "      <td>dog</td>\n",
       "    </tr>\n",
       "    <tr>\n",
       "      <th>4</th>\n",
       "      <td>cat</td>\n",
       "      <td>cat</td>\n",
       "      <td>cat</td>\n",
       "      <td>dog</td>\n",
       "      <td>dog</td>\n",
       "    </tr>\n",
       "  </tbody>\n",
       "</table>\n",
       "</div>"
      ],
      "text/plain": [
       "  actual model1 model2 model3 model4\n",
       "0    cat    cat    dog    cat    dog\n",
       "1    dog    dog    cat    cat    dog\n",
       "2    dog    cat    cat    cat    dog\n",
       "3    dog    dog    dog    cat    dog\n",
       "4    cat    cat    cat    dog    dog"
      ]
     },
     "execution_count": 25,
     "metadata": {},
     "output_type": "execute_result"
    }
   ],
   "source": [
    "paws.head()"
   ]
  },
  {
   "cell_type": "code",
   "execution_count": 26,
   "metadata": {},
   "outputs": [
    {
     "name": "stdout",
     "output_type": "stream",
     "text": [
      "<class 'pandas.core.frame.DataFrame'>\n",
      "RangeIndex: 5000 entries, 0 to 4999\n",
      "Data columns (total 5 columns):\n",
      " #   Column  Non-Null Count  Dtype \n",
      "---  ------  --------------  ----- \n",
      " 0   actual  5000 non-null   object\n",
      " 1   model1  5000 non-null   object\n",
      " 2   model2  5000 non-null   object\n",
      " 3   model3  5000 non-null   object\n",
      " 4   model4  5000 non-null   object\n",
      "dtypes: object(5)\n",
      "memory usage: 195.4+ KB\n"
     ]
    }
   ],
   "source": [
    "paws.info()"
   ]
  },
  {
   "cell_type": "markdown",
   "metadata": {},
   "source": [
    "#### a. In terms of accuracy, how do the various models compare to the baseline model? Are any of the models better than the baseline?"
   ]
  },
  {
   "cell_type": "code",
   "execution_count": 27,
   "metadata": {},
   "outputs": [],
   "source": [
    "#create your baseline first\n",
    "paws['baseline'] = 'dog'"
   ]
  },
  {
   "cell_type": "code",
   "execution_count": 28,
   "metadata": {},
   "outputs": [
    {
     "data": {
      "text/html": [
       "<div>\n",
       "<style scoped>\n",
       "    .dataframe tbody tr th:only-of-type {\n",
       "        vertical-align: middle;\n",
       "    }\n",
       "\n",
       "    .dataframe tbody tr th {\n",
       "        vertical-align: top;\n",
       "    }\n",
       "\n",
       "    .dataframe thead th {\n",
       "        text-align: right;\n",
       "    }\n",
       "</style>\n",
       "<table border=\"1\" class=\"dataframe\">\n",
       "  <thead>\n",
       "    <tr style=\"text-align: right;\">\n",
       "      <th></th>\n",
       "      <th>actual</th>\n",
       "      <th>model1</th>\n",
       "      <th>model2</th>\n",
       "      <th>model3</th>\n",
       "      <th>model4</th>\n",
       "      <th>baseline</th>\n",
       "    </tr>\n",
       "  </thead>\n",
       "  <tbody>\n",
       "    <tr>\n",
       "      <th>0</th>\n",
       "      <td>cat</td>\n",
       "      <td>cat</td>\n",
       "      <td>dog</td>\n",
       "      <td>cat</td>\n",
       "      <td>dog</td>\n",
       "      <td>dog</td>\n",
       "    </tr>\n",
       "    <tr>\n",
       "      <th>1</th>\n",
       "      <td>dog</td>\n",
       "      <td>dog</td>\n",
       "      <td>cat</td>\n",
       "      <td>cat</td>\n",
       "      <td>dog</td>\n",
       "      <td>dog</td>\n",
       "    </tr>\n",
       "    <tr>\n",
       "      <th>2</th>\n",
       "      <td>dog</td>\n",
       "      <td>cat</td>\n",
       "      <td>cat</td>\n",
       "      <td>cat</td>\n",
       "      <td>dog</td>\n",
       "      <td>dog</td>\n",
       "    </tr>\n",
       "    <tr>\n",
       "      <th>3</th>\n",
       "      <td>dog</td>\n",
       "      <td>dog</td>\n",
       "      <td>dog</td>\n",
       "      <td>cat</td>\n",
       "      <td>dog</td>\n",
       "      <td>dog</td>\n",
       "    </tr>\n",
       "    <tr>\n",
       "      <th>4</th>\n",
       "      <td>cat</td>\n",
       "      <td>cat</td>\n",
       "      <td>cat</td>\n",
       "      <td>dog</td>\n",
       "      <td>dog</td>\n",
       "      <td>dog</td>\n",
       "    </tr>\n",
       "  </tbody>\n",
       "</table>\n",
       "</div>"
      ],
      "text/plain": [
       "  actual model1 model2 model3 model4 baseline\n",
       "0    cat    cat    dog    cat    dog      dog\n",
       "1    dog    dog    cat    cat    dog      dog\n",
       "2    dog    cat    cat    cat    dog      dog\n",
       "3    dog    dog    dog    cat    dog      dog\n",
       "4    cat    cat    cat    dog    dog      dog"
      ]
     },
     "execution_count": 28,
     "metadata": {},
     "output_type": "execute_result"
    }
   ],
   "source": [
    "paws.head()"
   ]
  },
  {
   "cell_type": "code",
   "execution_count": 93,
   "metadata": {},
   "outputs": [
    {
     "data": {
      "text/plain": [
       "dog    3254\n",
       "cat    1746\n",
       "Name: actual, dtype: int64"
      ]
     },
     "execution_count": 93,
     "metadata": {},
     "output_type": "execute_result"
    }
   ],
   "source": [
    "#get actual numbers\n",
    "paws.actual.value_counts()"
   ]
  },
  {
   "cell_type": "code",
   "execution_count": 96,
   "metadata": {},
   "outputs": [],
   "source": [
    "#accuracy metric- no subset needed for accuracy\n",
    "baseline_accuracy = (paws.baseline == paws.actual).mean()"
   ]
  },
  {
   "cell_type": "code",
   "execution_count": 37,
   "metadata": {},
   "outputs": [
    {
     "data": {
      "text/plain": [
       "0.6508"
      ]
     },
     "execution_count": 37,
     "metadata": {},
     "output_type": "execute_result"
    }
   ],
   "source": [
    "#this gives the accuracy of the baseline\n",
    "baseline_accuracy"
   ]
  },
  {
   "cell_type": "markdown",
   "metadata": {},
   "source": [
    "#### b. Suppose you are working on a team that solely deals with dog pictures. Which of these models would you recomend for Phase I? For Phase II?"
   ]
  },
  {
   "cell_type": "code",
   "execution_count": 97,
   "metadata": {},
   "outputs": [
    {
     "name": "stdout",
     "output_type": "stream",
     "text": [
      "Accuracy rate for model1 is 80.74%\n",
      "Accuracy rate for model2 is 63.04%\n",
      "Accuracy rate for model3 is 50.96%\n",
      "Accuracy rate for model4 is 74.26%\n"
     ]
    }
   ],
   "source": [
    "positive = 'dog'\n",
    "\n",
    "#find the accuracy of all 4 models\n",
    "accuracy_model1 = (paws.actual == paws.model1).mean()\n",
    "accuracy_model2 = (paws.actual == paws.model2).mean()\n",
    "accuracy_model3 = (paws.actual == paws.model3).mean()\n",
    "accuracy_model4 = (paws.actual == paws.model4).mean()\n",
    "\n",
    "print(f'Accuracy rate for model1 is{accuracy_model1: .2%}')\n",
    "print(f'Accuracy rate for model2 is{accuracy_model2: .2%}')\n",
    "print(f'Accuracy rate for model3 is{accuracy_model3: .2%}')\n",
    "print(f'Accuracy rate for model4 is{accuracy_model4: .2%}')"
   ]
  },
  {
   "cell_type": "code",
   "execution_count": 42,
   "metadata": {},
   "outputs": [
    {
     "name": "stdout",
     "output_type": "stream",
     "text": [
      "Recall rate for model1 is 80.33%\n",
      "Recall rate for model2 is 49.08%\n",
      "Recall rate for model3 is 50.86%\n",
      "Recall rate for model4 is 95.57%\n"
     ]
    }
   ],
   "source": [
    "positive = 'dog'\n",
    "\n",
    "#create your subset\n",
    "subset = paws[paws.actual == positive]\n",
    "\n",
    "recall_model1 = (subset.actual == subset.model1).mean() \n",
    "recall_model2 = (subset.actual == subset.model2).mean()\n",
    "recall_model3 = (subset.actual == subset.model3).mean()\n",
    "recall_model4 = (subset.actual == subset.model4).mean()\n",
    "\n",
    "print(f'Recall rate for model1 is{recall_model1: .2%}')\n",
    "print(f'Recall rate for model2 is{recall_model2: .2%}')\n",
    "print(f'Recall rate for model3 is{recall_model3: .2%}')\n",
    "print(f'Recall rate for model4 is{recall_model4: .2%}')"
   ]
  },
  {
   "cell_type": "markdown",
   "metadata": {},
   "source": [
    "**model 4 has the highest recall**"
   ]
  },
  {
   "cell_type": "markdown",
   "metadata": {},
   "source": [
    "#### c. Suppose you are working on a team that solely deals with cat pictures. Which of these models would you recomend for Phase I? For Phase II?"
   ]
  },
  {
   "cell_type": "code",
   "execution_count": 101,
   "metadata": {},
   "outputs": [
    {
     "name": "stdout",
     "output_type": "stream",
     "text": [
      "Accuracy rate for model1 is 81.50%\n",
      "Accuracy rate for model2 is 89.06%\n",
      "Accuracy rate for model3 is 51.15%\n",
      "Accuracy rate for model4 is 34.54%\n"
     ]
    }
   ],
   "source": [
    "positive_cat = 'cat'\n",
    "\n",
    "subset_cat = paws[paws.actual == positive_cat]\n",
    "\n",
    "#find the accuracy of all 4 models\n",
    "accuracy_model1 = (subset_cat.actual == subset_cat.model1).mean()\n",
    "accuracy_model2 = (subset_cat.actual == subset_cat.model2).mean()\n",
    "accuracy_model3 = (subset_cat.actual == subset_cat.model3).mean()\n",
    "accuracy_model4 = (subset_cat.actual == subset_cat.model4).mean()\n",
    "\n",
    "print(f'Accuracy rate for model1 is{accuracy_model1: .2%}')\n",
    "print(f'Accuracy rate for model2 is{accuracy_model2: .2%}')\n",
    "print(f'Accuracy rate for model3 is{accuracy_model3: .2%}')\n",
    "print(f'Accuracy rate for model4 is{accuracy_model4: .2%}')"
   ]
  },
  {
   "cell_type": "code",
   "execution_count": 102,
   "metadata": {},
   "outputs": [
    {
     "name": "stdout",
     "output_type": "stream",
     "text": [
      "Recall rate for model1 is 81.50%\n",
      "Recall rate for model2 is 89.06%\n",
      "Recall rate for model3 is 51.15%\n",
      "Recall rate for model4 is 34.54%\n"
     ]
    }
   ],
   "source": [
    "recall_model1 = (subset_cat.actual == subset_cat.model1).mean() \n",
    "recall_model2 = (subset_cat.actual == subset_cat.model2).mean()\n",
    "recall_model3 = (subset_cat.actual == subset_cat.model3).mean()\n",
    "recall_model4 = (subset_cat.actual == subset_cat.model4).mean()\n",
    "\n",
    "print(f'Recall rate for model1 is{recall_model1: .2%}')\n",
    "print(f'Recall rate for model2 is{recall_model2: .2%}')\n",
    "print(f'Recall rate for model3 is{recall_model3: .2%}')\n",
    "print(f'Recall rate for model4 is{recall_model4: .2%}')"
   ]
  },
  {
   "cell_type": "markdown",
   "metadata": {},
   "source": [
    "_______________________________"
   ]
  },
  {
   "cell_type": "markdown",
   "metadata": {},
   "source": [
    "### #5 Follow the links below to read the documentation about each function, then apply those functions to the data from the previous problem."
   ]
  },
  {
   "cell_type": "markdown",
   "metadata": {},
   "source": [
    "#### sklearn.metrics.accuracy_score"
   ]
  },
  {
   "cell_type": "code",
   "execution_count": 76,
   "metadata": {},
   "outputs": [],
   "source": [
    "from sklearn.metrics import accuracy_score"
   ]
  },
  {
   "cell_type": "code",
   "execution_count": 77,
   "metadata": {},
   "outputs": [],
   "source": [
    "accuracysk_model1 = accuracy_score(paws.actual, paws.model1)\n",
    "accuracysk_model2 = accuracy_score(paws.actual, paws.model2)\n",
    "accuracysk_model3 = accuracy_score(paws.actual, paws.model3)\n",
    "accuracysk_model4 = accuracy_score(paws.actual, paws.model4)"
   ]
  },
  {
   "cell_type": "code",
   "execution_count": 79,
   "metadata": {},
   "outputs": [
    {
     "name": "stdout",
     "output_type": "stream",
     "text": [
      "Accuracy rate for model1 is 80.74%\n",
      "Accuracy rate for model2 is 63.04%\n",
      "Accuracy rate for model3 is 50.96%\n",
      "Accuracy rate for model4 is 74.26%\n"
     ]
    }
   ],
   "source": [
    "print(f'Accuracy rate for model1 is{accuracysk_model1: .2%}')\n",
    "print(f'Accuracy rate for model2 is{accuracysk_model2: .2%}')\n",
    "print(f'Accuracy rate for model3 is{accuracysk_model3: .2%}')\n",
    "print(f'Accuracy rate for model4 is{accuracysk_model4: .2%}')"
   ]
  },
  {
   "cell_type": "markdown",
   "metadata": {},
   "source": [
    "#### sklearn.metrics.precision_score"
   ]
  },
  {
   "cell_type": "code",
   "execution_count": 81,
   "metadata": {},
   "outputs": [],
   "source": [
    "from sklearn.metrics import precision_score"
   ]
  },
  {
   "cell_type": "code",
   "execution_count": 82,
   "metadata": {},
   "outputs": [],
   "source": [
    "precisionsk_model1 = precision_score(paws.actual, paws.model1, pos_label = 'dog')\n",
    "precisionsk_model2 = precision_score(paws.actual, paws.model2, pos_label = 'dog')\n",
    "precisionsk_model3 = precision_score(paws.actual, paws.model3, pos_label = 'dog')\n",
    "precisionsk_model4 = precision_score(paws.actual, paws.model4, pos_label = 'dog')"
   ]
  },
  {
   "cell_type": "code",
   "execution_count": 83,
   "metadata": {},
   "outputs": [
    {
     "name": "stdout",
     "output_type": "stream",
     "text": [
      "Precision rate for model1 is 89.00%\n",
      "Precision rate for model2 is 89.32%\n",
      "Precision rate for model3 is 65.99%\n",
      "Precision rate for model4 is 73.12%\n"
     ]
    }
   ],
   "source": [
    "print(f'Precision rate for model1 is{precisionsk_model1: .2%}')\n",
    "print(f'Precision rate for model2 is{precisionsk_model2: .2%}')\n",
    "print(f'Precision rate for model3 is{precisionsk_model3: .2%}')\n",
    "print(f'Precision rate for model4 is{precisionsk_model4: .2%}')"
   ]
  },
  {
   "cell_type": "markdown",
   "metadata": {},
   "source": [
    "#### sklearn.metrics.recall_score"
   ]
  },
  {
   "cell_type": "code",
   "execution_count": 84,
   "metadata": {},
   "outputs": [],
   "source": [
    "from sklearn.metrics import recall_score"
   ]
  },
  {
   "cell_type": "code",
   "execution_count": 85,
   "metadata": {},
   "outputs": [],
   "source": [
    "recallsk_model1 = recall_score(paws.actual, paws.model1, pos_label = 'dog')\n",
    "recallsk_model2 = recall_score(paws.actual, paws.model2, pos_label = 'dog')\n",
    "recallsk_model3 = recall_score(paws.actual, paws.model3, pos_label = 'dog')\n",
    "recallsk_model4 = recall_score(paws.actual, paws.model4, pos_label = 'dog')"
   ]
  },
  {
   "cell_type": "code",
   "execution_count": 86,
   "metadata": {},
   "outputs": [
    {
     "name": "stdout",
     "output_type": "stream",
     "text": [
      "Recall rate for model1 is 80.33%\n",
      "Recall rate for model2 is 49.08%\n",
      "Recall rate for model3 is 50.86%\n",
      "Recall rate for model4 is 95.57%\n"
     ]
    }
   ],
   "source": [
    "print(f'Recall rate for model1 is{recallsk_model1: .2%}')\n",
    "print(f'Recall rate for model2 is{recallsk_model2: .2%}')\n",
    "print(f'Recall rate for model3 is{recallsk_model3: .2%}')\n",
    "print(f'Recall rate for model4 is{recallsk_model4: .2%}')"
   ]
  },
  {
   "cell_type": "markdown",
   "metadata": {},
   "source": [
    "#### sklearn.metrics.classification_report"
   ]
  },
  {
   "cell_type": "code",
   "execution_count": 88,
   "metadata": {},
   "outputs": [],
   "source": [
    "from sklearn.metrics import classification_report"
   ]
  },
  {
   "cell_type": "code",
   "execution_count": 103,
   "metadata": {},
   "outputs": [],
   "source": [
    "classsk_model1 = classification_report(paws.actual, paws.model1)\n",
    "classsk_model2 = classification_report(paws.actual, paws.model2)\n",
    "classsk_model3 = classification_report(paws.actual, paws.model3)\n",
    "classsk_model4 = classification_report(paws.actual, paws.model4)"
   ]
  },
  {
   "cell_type": "code",
   "execution_count": 104,
   "metadata": {},
   "outputs": [
    {
     "data": {
      "text/plain": [
       "'              precision    recall  f1-score   support\\n\\n         cat       0.69      0.82      0.75      1746\\n         dog       0.89      0.80      0.84      3254\\n\\n    accuracy                           0.81      5000\\n   macro avg       0.79      0.81      0.80      5000\\nweighted avg       0.82      0.81      0.81      5000\\n'"
      ]
     },
     "execution_count": 104,
     "metadata": {},
     "output_type": "execute_result"
    }
   ],
   "source": [
    "classsk_model1"
   ]
  },
  {
   "cell_type": "code",
   "execution_count": 107,
   "metadata": {},
   "outputs": [
    {
     "data": {
      "text/plain": [
       "'              precision    recall  f1-score   support\\n\\n         cat       0.48      0.89      0.63      1746\\n         dog       0.89      0.49      0.63      3254\\n\\n    accuracy                           0.63      5000\\n   macro avg       0.69      0.69      0.63      5000\\nweighted avg       0.75      0.63      0.63      5000\\n'"
      ]
     },
     "execution_count": 107,
     "metadata": {},
     "output_type": "execute_result"
    }
   ],
   "source": [
    "classsk_model2"
   ]
  },
  {
   "cell_type": "code",
   "execution_count": 106,
   "metadata": {},
   "outputs": [
    {
     "data": {
      "text/plain": [
       "'              precision    recall  f1-score   support\\n\\n         cat       0.36      0.51      0.42      1746\\n         dog       0.66      0.51      0.57      3254\\n\\n    accuracy                           0.51      5000\\n   macro avg       0.51      0.51      0.50      5000\\nweighted avg       0.55      0.51      0.52      5000\\n'"
      ]
     },
     "execution_count": 106,
     "metadata": {},
     "output_type": "execute_result"
    }
   ],
   "source": [
    "classsk_model3"
   ]
  },
  {
   "cell_type": "code",
   "execution_count": 105,
   "metadata": {},
   "outputs": [
    {
     "data": {
      "text/plain": [
       "'              precision    recall  f1-score   support\\n\\n         cat       0.81      0.35      0.48      1746\\n         dog       0.73      0.96      0.83      3254\\n\\n    accuracy                           0.74      5000\\n   macro avg       0.77      0.65      0.66      5000\\nweighted avg       0.76      0.74      0.71      5000\\n'"
      ]
     },
     "execution_count": 105,
     "metadata": {},
     "output_type": "execute_result"
    }
   ],
   "source": [
    "classsk_model4"
   ]
  },
  {
   "cell_type": "code",
   "execution_count": null,
   "metadata": {},
   "outputs": [],
   "source": []
  }
 ],
 "metadata": {
  "kernelspec": {
   "display_name": "Python 3",
   "language": "python",
   "name": "python3"
  },
  "language_info": {
   "codemirror_mode": {
    "name": "ipython",
    "version": 3
   },
   "file_extension": ".py",
   "mimetype": "text/x-python",
   "name": "python",
   "nbconvert_exporter": "python",
   "pygments_lexer": "ipython3",
   "version": "3.8.5"
  }
 },
 "nbformat": 4,
 "nbformat_minor": 4
}
