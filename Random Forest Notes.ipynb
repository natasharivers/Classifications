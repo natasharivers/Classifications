{
 "cells": [
  {
   "cell_type": "markdown",
   "metadata": {},
   "source": [
    "# Random Forest"
   ]
  },
  {
   "cell_type": "markdown",
   "metadata": {},
   "source": [
    "## What is it?\n",
    "- a type Ensemble Machine Learning algorithm called Bootstrap Aggregation or bagging.\n",
    "- a \"forest\" of suboptimal Decision Trees"
   ]
  },
  {
   "cell_type": "markdown",
   "metadata": {},
   "source": [
    "## How does it work?"
   ]
  },
  {
   "cell_type": "markdown",
   "metadata": {},
   "source": [
    "#### Bagging Process: \n",
    "\n",
    "   - Bootstrapping: \n",
    "       - randomly grabbing out of original \"bag\"\n",
    "           - can repeat the same row more than once\n",
    "           - can leave out rows\n",
    "           \n",
    "   - take an average of the bootstrapped samples\n",
    "   "
   ]
  },
  {
   "cell_type": "markdown",
   "metadata": {},
   "source": [
    "#### Pros:\n",
    "- reduction of overfitting\n",
    "- more acurate than desicion trees\n",
    "- natureally performs featuer selection\n",
    "\n",
    "#### Cons:\n",
    "- slow real time prediction\n",
    "- difficult to implement\n",
    "- completx algorith so difficult to explain"
   ]
  },
  {
   "cell_type": "markdown",
   "metadata": {},
   "source": [
    "_______________"
   ]
  },
  {
   "cell_type": "markdown",
   "metadata": {},
   "source": [
    "# Example\n",
    "- what type of species of flower inside the iris dataset"
   ]
  },
  {
   "cell_type": "code",
   "execution_count": 14,
   "metadata": {},
   "outputs": [],
   "source": [
    "import warnings\n",
    "warnings.filterwarnings('ignore')\n",
    "\n",
    "import numpy as np\n",
    "\n",
    "from sklearn.ensemble import RandomForestClassifier\n",
    "\n",
    "from sklearn.metrics import confusion_matrix, classification_report"
   ]
  },
  {
   "cell_type": "code",
   "execution_count": 22,
   "metadata": {},
   "outputs": [],
   "source": [
    "from pydataset import data\n",
    "from sklearn.model_selection import train_test_split\n",
    "import pandas as pd"
   ]
  },
  {
   "cell_type": "code",
   "execution_count": 3,
   "metadata": {},
   "outputs": [],
   "source": [
    "#import dataframe\n",
    "df= data('iris')"
   ]
  },
  {
   "cell_type": "code",
   "execution_count": 4,
   "metadata": {},
   "outputs": [
    {
     "name": "stdout",
     "output_type": "stream",
     "text": [
      "<class 'pandas.core.frame.DataFrame'>\n",
      "Int64Index: 150 entries, 1 to 150\n",
      "Data columns (total 5 columns):\n",
      " #   Column        Non-Null Count  Dtype  \n",
      "---  ------        --------------  -----  \n",
      " 0   Sepal.Length  150 non-null    float64\n",
      " 1   Sepal.Width   150 non-null    float64\n",
      " 2   Petal.Length  150 non-null    float64\n",
      " 3   Petal.Width   150 non-null    float64\n",
      " 4   Species       150 non-null    object \n",
      "dtypes: float64(4), object(1)\n",
      "memory usage: 7.0+ KB\n"
     ]
    }
   ],
   "source": [
    "#check data- no nulls, no columns to drop\n",
    "df.info()"
   ]
  },
  {
   "cell_type": "code",
   "execution_count": 5,
   "metadata": {},
   "outputs": [],
   "source": [
    "#split our data\n",
    "train, test = train_test_split(df, train_size=0.8, random_state=1349, stratify=df.Species)"
   ]
  },
  {
   "cell_type": "code",
   "execution_count": 7,
   "metadata": {},
   "outputs": [],
   "source": [
    "#split train\n",
    "train, validate = train_test_split(train, train_size= 0.7, random_state = 1349, stratify=train.Species)"
   ]
  },
  {
   "cell_type": "code",
   "execution_count": 9,
   "metadata": {},
   "outputs": [
    {
     "data": {
      "text/plain": [
       "((84, 5), (36, 5), (30, 5))"
      ]
     },
     "execution_count": 9,
     "metadata": {},
     "output_type": "execute_result"
    }
   ],
   "source": [
    "#get shape of all three samples\n",
    "train.shape, validate.shape, test.shape"
   ]
  },
  {
   "cell_type": "code",
   "execution_count": 10,
   "metadata": {},
   "outputs": [],
   "source": [
    "#assign everything to X_train except species\n",
    "X_train = train.drop(columns='Species')\n",
    "\n",
    "#assign y_train to species only\n",
    "y_train = train[['Species']]"
   ]
  },
  {
   "cell_type": "code",
   "execution_count": 11,
   "metadata": {},
   "outputs": [
    {
     "data": {
      "text/html": [
       "<div>\n",
       "<style scoped>\n",
       "    .dataframe tbody tr th:only-of-type {\n",
       "        vertical-align: middle;\n",
       "    }\n",
       "\n",
       "    .dataframe tbody tr th {\n",
       "        vertical-align: top;\n",
       "    }\n",
       "\n",
       "    .dataframe thead th {\n",
       "        text-align: right;\n",
       "    }\n",
       "</style>\n",
       "<table border=\"1\" class=\"dataframe\">\n",
       "  <thead>\n",
       "    <tr style=\"text-align: right;\">\n",
       "      <th></th>\n",
       "      <th>Sepal.Length</th>\n",
       "      <th>Sepal.Width</th>\n",
       "      <th>Petal.Length</th>\n",
       "      <th>Petal.Width</th>\n",
       "    </tr>\n",
       "  </thead>\n",
       "  <tbody>\n",
       "    <tr>\n",
       "      <th>139</th>\n",
       "      <td>6.0</td>\n",
       "      <td>3.0</td>\n",
       "      <td>4.8</td>\n",
       "      <td>1.8</td>\n",
       "    </tr>\n",
       "    <tr>\n",
       "      <th>8</th>\n",
       "      <td>5.0</td>\n",
       "      <td>3.4</td>\n",
       "      <td>1.5</td>\n",
       "      <td>0.2</td>\n",
       "    </tr>\n",
       "    <tr>\n",
       "      <th>80</th>\n",
       "      <td>5.7</td>\n",
       "      <td>2.6</td>\n",
       "      <td>3.5</td>\n",
       "      <td>1.0</td>\n",
       "    </tr>\n",
       "    <tr>\n",
       "      <th>75</th>\n",
       "      <td>6.4</td>\n",
       "      <td>2.9</td>\n",
       "      <td>4.3</td>\n",
       "      <td>1.3</td>\n",
       "    </tr>\n",
       "    <tr>\n",
       "      <th>98</th>\n",
       "      <td>6.2</td>\n",
       "      <td>2.9</td>\n",
       "      <td>4.3</td>\n",
       "      <td>1.3</td>\n",
       "    </tr>\n",
       "  </tbody>\n",
       "</table>\n",
       "</div>"
      ],
      "text/plain": [
       "     Sepal.Length  Sepal.Width  Petal.Length  Petal.Width\n",
       "139           6.0          3.0           4.8          1.8\n",
       "8             5.0          3.4           1.5          0.2\n",
       "80            5.7          2.6           3.5          1.0\n",
       "75            6.4          2.9           4.3          1.3\n",
       "98            6.2          2.9           4.3          1.3"
      ]
     },
     "execution_count": 11,
     "metadata": {},
     "output_type": "execute_result"
    }
   ],
   "source": [
    "#take a look at X_train\n",
    "X_train.head()"
   ]
  },
  {
   "cell_type": "code",
   "execution_count": 12,
   "metadata": {},
   "outputs": [
    {
     "data": {
      "text/html": [
       "<div>\n",
       "<style scoped>\n",
       "    .dataframe tbody tr th:only-of-type {\n",
       "        vertical-align: middle;\n",
       "    }\n",
       "\n",
       "    .dataframe tbody tr th {\n",
       "        vertical-align: top;\n",
       "    }\n",
       "\n",
       "    .dataframe thead th {\n",
       "        text-align: right;\n",
       "    }\n",
       "</style>\n",
       "<table border=\"1\" class=\"dataframe\">\n",
       "  <thead>\n",
       "    <tr style=\"text-align: right;\">\n",
       "      <th></th>\n",
       "      <th>Species</th>\n",
       "    </tr>\n",
       "  </thead>\n",
       "  <tbody>\n",
       "    <tr>\n",
       "      <th>139</th>\n",
       "      <td>virginica</td>\n",
       "    </tr>\n",
       "    <tr>\n",
       "      <th>8</th>\n",
       "      <td>setosa</td>\n",
       "    </tr>\n",
       "    <tr>\n",
       "      <th>80</th>\n",
       "      <td>versicolor</td>\n",
       "    </tr>\n",
       "    <tr>\n",
       "      <th>75</th>\n",
       "      <td>versicolor</td>\n",
       "    </tr>\n",
       "    <tr>\n",
       "      <th>98</th>\n",
       "      <td>versicolor</td>\n",
       "    </tr>\n",
       "  </tbody>\n",
       "</table>\n",
       "</div>"
      ],
      "text/plain": [
       "        Species\n",
       "139   virginica\n",
       "8        setosa\n",
       "80   versicolor\n",
       "75   versicolor\n",
       "98   versicolor"
      ]
     },
     "execution_count": 12,
     "metadata": {},
     "output_type": "execute_result"
    }
   ],
   "source": [
    "#take a look at y-train\n",
    "y_train.head()"
   ]
  },
  {
   "cell_type": "markdown",
   "metadata": {},
   "source": [
    "### NOW we make our model!"
   ]
  },
  {
   "cell_type": "code",
   "execution_count": 16,
   "metadata": {},
   "outputs": [],
   "source": [
    "#Step 1: make our 'thing'\n",
    "clf= RandomForestClassifier()"
   ]
  },
  {
   "cell_type": "code",
   "execution_count": 17,
   "metadata": {},
   "outputs": [
    {
     "data": {
      "text/plain": [
       "RandomForestClassifier()"
      ]
     },
     "execution_count": 17,
     "metadata": {},
     "output_type": "execute_result"
    }
   ],
   "source": [
    "#Step 2: fit the thing- ONLY FIT ON TRAIN\n",
    "clf.fit(X_train, y_train)"
   ]
  },
  {
   "cell_type": "code",
   "execution_count": 18,
   "metadata": {},
   "outputs": [],
   "source": [
    "#Step 3: use the thing (on in-sample data, on training set)\n",
    "y_pred = clf.predict(X_train)"
   ]
  },
  {
   "cell_type": "code",
   "execution_count": 19,
   "metadata": {},
   "outputs": [
    {
     "data": {
      "text/plain": [
       "array(['virginica', 'setosa', 'versicolor', 'versicolor', 'versicolor',\n",
       "       'versicolor', 'versicolor', 'setosa', 'versicolor', 'setosa',\n",
       "       'setosa', 'setosa', 'virginica', 'setosa', 'virginica',\n",
       "       'virginica', 'versicolor', 'virginica', 'versicolor', 'versicolor',\n",
       "       'setosa', 'versicolor', 'setosa', 'virginica', 'versicolor',\n",
       "       'setosa', 'virginica', 'setosa', 'virginica', 'setosa',\n",
       "       'versicolor', 'virginica', 'setosa', 'setosa', 'virginica',\n",
       "       'setosa', 'virginica', 'versicolor', 'versicolor', 'virginica',\n",
       "       'versicolor', 'virginica', 'versicolor', 'setosa', 'virginica',\n",
       "       'virginica', 'setosa', 'virginica', 'virginica', 'virginica',\n",
       "       'versicolor', 'setosa', 'setosa', 'setosa', 'virginica',\n",
       "       'versicolor', 'versicolor', 'setosa', 'versicolor', 'versicolor',\n",
       "       'setosa', 'virginica', 'versicolor', 'virginica', 'setosa',\n",
       "       'virginica', 'virginica', 'setosa', 'virginica', 'setosa',\n",
       "       'versicolor', 'versicolor', 'setosa', 'versicolor', 'virginica',\n",
       "       'setosa', 'setosa', 'virginica', 'setosa', 'virginica',\n",
       "       'versicolor', 'versicolor', 'virginica', 'versicolor'],\n",
       "      dtype=object)"
      ]
     },
     "execution_count": 19,
     "metadata": {},
     "output_type": "execute_result"
    }
   ],
   "source": [
    "y_pred"
   ]
  },
  {
   "cell_type": "code",
   "execution_count": 20,
   "metadata": {},
   "outputs": [
    {
     "data": {
      "text/plain": [
       "'              precision    recall  f1-score   support\\n\\n      setosa       1.00      1.00      1.00        28\\n  versicolor       1.00      1.00      1.00        28\\n   virginica       1.00      1.00      1.00        28\\n\\n    accuracy                           1.00        84\\n   macro avg       1.00      1.00      1.00        84\\nweighted avg       1.00      1.00      1.00        84\\n'"
      ]
     },
     "execution_count": 20,
     "metadata": {},
     "output_type": "execute_result"
    }
   ],
   "source": [
    "classification_report(y_train.Species, y_pred)"
   ]
  },
  {
   "cell_type": "code",
   "execution_count": 21,
   "metadata": {},
   "outputs": [
    {
     "data": {
      "text/plain": [
       "{'setosa': {'precision': 1.0, 'recall': 1.0, 'f1-score': 1.0, 'support': 28},\n",
       " 'versicolor': {'precision': 1.0,\n",
       "  'recall': 1.0,\n",
       "  'f1-score': 1.0,\n",
       "  'support': 28},\n",
       " 'virginica': {'precision': 1.0,\n",
       "  'recall': 1.0,\n",
       "  'f1-score': 1.0,\n",
       "  'support': 28},\n",
       " 'accuracy': 1.0,\n",
       " 'macro avg': {'precision': 1.0,\n",
       "  'recall': 1.0,\n",
       "  'f1-score': 1.0,\n",
       "  'support': 84},\n",
       " 'weighted avg': {'precision': 1.0,\n",
       "  'recall': 1.0,\n",
       "  'f1-score': 1.0,\n",
       "  'support': 84}}"
      ]
     },
     "execution_count": 21,
     "metadata": {},
     "output_type": "execute_result"
    }
   ],
   "source": [
    "#make it look cleaner- turns into dictionary\n",
    "classification_report(y_train.Species, y_pred, output_dict=True)"
   ]
  },
  {
   "cell_type": "code",
   "execution_count": 24,
   "metadata": {},
   "outputs": [
    {
     "data": {
      "text/html": [
       "<div>\n",
       "<style scoped>\n",
       "    .dataframe tbody tr th:only-of-type {\n",
       "        vertical-align: middle;\n",
       "    }\n",
       "\n",
       "    .dataframe tbody tr th {\n",
       "        vertical-align: top;\n",
       "    }\n",
       "\n",
       "    .dataframe thead th {\n",
       "        text-align: right;\n",
       "    }\n",
       "</style>\n",
       "<table border=\"1\" class=\"dataframe\">\n",
       "  <thead>\n",
       "    <tr style=\"text-align: right;\">\n",
       "      <th></th>\n",
       "      <th>setosa</th>\n",
       "      <th>versicolor</th>\n",
       "      <th>virginica</th>\n",
       "      <th>accuracy</th>\n",
       "      <th>macro avg</th>\n",
       "      <th>weighted avg</th>\n",
       "    </tr>\n",
       "  </thead>\n",
       "  <tbody>\n",
       "    <tr>\n",
       "      <th>precision</th>\n",
       "      <td>1.0</td>\n",
       "      <td>1.0</td>\n",
       "      <td>1.0</td>\n",
       "      <td>1.0</td>\n",
       "      <td>1.0</td>\n",
       "      <td>1.0</td>\n",
       "    </tr>\n",
       "    <tr>\n",
       "      <th>recall</th>\n",
       "      <td>1.0</td>\n",
       "      <td>1.0</td>\n",
       "      <td>1.0</td>\n",
       "      <td>1.0</td>\n",
       "      <td>1.0</td>\n",
       "      <td>1.0</td>\n",
       "    </tr>\n",
       "    <tr>\n",
       "      <th>f1-score</th>\n",
       "      <td>1.0</td>\n",
       "      <td>1.0</td>\n",
       "      <td>1.0</td>\n",
       "      <td>1.0</td>\n",
       "      <td>1.0</td>\n",
       "      <td>1.0</td>\n",
       "    </tr>\n",
       "    <tr>\n",
       "      <th>support</th>\n",
       "      <td>28.0</td>\n",
       "      <td>28.0</td>\n",
       "      <td>28.0</td>\n",
       "      <td>1.0</td>\n",
       "      <td>84.0</td>\n",
       "      <td>84.0</td>\n",
       "    </tr>\n",
       "  </tbody>\n",
       "</table>\n",
       "</div>"
      ],
      "text/plain": [
       "           setosa  versicolor  virginica  accuracy  macro avg  weighted avg\n",
       "precision     1.0         1.0        1.0       1.0        1.0           1.0\n",
       "recall        1.0         1.0        1.0       1.0        1.0           1.0\n",
       "f1-score      1.0         1.0        1.0       1.0        1.0           1.0\n",
       "support      28.0        28.0       28.0       1.0       84.0          84.0"
      ]
     },
     "execution_count": 24,
     "metadata": {},
     "output_type": "execute_result"
    }
   ],
   "source": [
    "#make it look even BETTER- turn dictionary into DataFrame\n",
    "pd.DataFrame(classification_report(y_train.Species, y_pred, output_dict=True))"
   ]
  },
  {
   "cell_type": "code",
   "execution_count": 25,
   "metadata": {},
   "outputs": [
    {
     "data": {
      "text/plain": [
       "1.0"
      ]
     },
     "execution_count": 25,
     "metadata": {},
     "output_type": "execute_result"
    }
   ],
   "source": [
    "#shows accuracy score for train set\n",
    "clf.score(X_train, y_train)"
   ]
  },
  {
   "cell_type": "markdown",
   "metadata": {},
   "source": [
    "## ONLY fit on train set!"
   ]
  },
  {
   "cell_type": "code",
   "execution_count": 26,
   "metadata": {},
   "outputs": [],
   "source": [
    "#y predication for validate set\n",
    "y_pred_val= clf.predict(validate.drop(columns='Species'))"
   ]
  },
  {
   "cell_type": "code",
   "execution_count": 27,
   "metadata": {},
   "outputs": [
    {
     "data": {
      "text/plain": [
       "1.0"
      ]
     },
     "execution_count": 27,
     "metadata": {},
     "output_type": "execute_result"
    }
   ],
   "source": [
    "clf.score(validate.drop(columns='Species'), y_pred_val)"
   ]
  },
  {
   "cell_type": "markdown",
   "metadata": {},
   "source": [
    "____________________________"
   ]
  },
  {
   "cell_type": "markdown",
   "metadata": {},
   "source": [
    "# Example 2\n",
    "- predict 'drive' based on 'cty' and 'hwy' (miles)"
   ]
  },
  {
   "cell_type": "code",
   "execution_count": 31,
   "metadata": {},
   "outputs": [],
   "source": [
    "df = data('mpg')"
   ]
  },
  {
   "cell_type": "code",
   "execution_count": 30,
   "metadata": {},
   "outputs": [
    {
     "data": {
      "text/html": [
       "<div>\n",
       "<style scoped>\n",
       "    .dataframe tbody tr th:only-of-type {\n",
       "        vertical-align: middle;\n",
       "    }\n",
       "\n",
       "    .dataframe tbody tr th {\n",
       "        vertical-align: top;\n",
       "    }\n",
       "\n",
       "    .dataframe thead th {\n",
       "        text-align: right;\n",
       "    }\n",
       "</style>\n",
       "<table border=\"1\" class=\"dataframe\">\n",
       "  <thead>\n",
       "    <tr style=\"text-align: right;\">\n",
       "      <th></th>\n",
       "      <th>manufacturer</th>\n",
       "      <th>model</th>\n",
       "      <th>displ</th>\n",
       "      <th>year</th>\n",
       "      <th>cyl</th>\n",
       "      <th>trans</th>\n",
       "      <th>drv</th>\n",
       "      <th>cty</th>\n",
       "      <th>hwy</th>\n",
       "      <th>fl</th>\n",
       "      <th>class</th>\n",
       "    </tr>\n",
       "  </thead>\n",
       "  <tbody>\n",
       "    <tr>\n",
       "      <th>1</th>\n",
       "      <td>audi</td>\n",
       "      <td>a4</td>\n",
       "      <td>1.8</td>\n",
       "      <td>1999</td>\n",
       "      <td>4</td>\n",
       "      <td>auto(l5)</td>\n",
       "      <td>f</td>\n",
       "      <td>18</td>\n",
       "      <td>29</td>\n",
       "      <td>p</td>\n",
       "      <td>compact</td>\n",
       "    </tr>\n",
       "    <tr>\n",
       "      <th>2</th>\n",
       "      <td>audi</td>\n",
       "      <td>a4</td>\n",
       "      <td>1.8</td>\n",
       "      <td>1999</td>\n",
       "      <td>4</td>\n",
       "      <td>manual(m5)</td>\n",
       "      <td>f</td>\n",
       "      <td>21</td>\n",
       "      <td>29</td>\n",
       "      <td>p</td>\n",
       "      <td>compact</td>\n",
       "    </tr>\n",
       "    <tr>\n",
       "      <th>3</th>\n",
       "      <td>audi</td>\n",
       "      <td>a4</td>\n",
       "      <td>2.0</td>\n",
       "      <td>2008</td>\n",
       "      <td>4</td>\n",
       "      <td>manual(m6)</td>\n",
       "      <td>f</td>\n",
       "      <td>20</td>\n",
       "      <td>31</td>\n",
       "      <td>p</td>\n",
       "      <td>compact</td>\n",
       "    </tr>\n",
       "    <tr>\n",
       "      <th>4</th>\n",
       "      <td>audi</td>\n",
       "      <td>a4</td>\n",
       "      <td>2.0</td>\n",
       "      <td>2008</td>\n",
       "      <td>4</td>\n",
       "      <td>auto(av)</td>\n",
       "      <td>f</td>\n",
       "      <td>21</td>\n",
       "      <td>30</td>\n",
       "      <td>p</td>\n",
       "      <td>compact</td>\n",
       "    </tr>\n",
       "    <tr>\n",
       "      <th>5</th>\n",
       "      <td>audi</td>\n",
       "      <td>a4</td>\n",
       "      <td>2.8</td>\n",
       "      <td>1999</td>\n",
       "      <td>6</td>\n",
       "      <td>auto(l5)</td>\n",
       "      <td>f</td>\n",
       "      <td>16</td>\n",
       "      <td>26</td>\n",
       "      <td>p</td>\n",
       "      <td>compact</td>\n",
       "    </tr>\n",
       "  </tbody>\n",
       "</table>\n",
       "</div>"
      ],
      "text/plain": [
       "  manufacturer model  displ  year  cyl       trans drv  cty  hwy fl    class\n",
       "1         audi    a4    1.8  1999    4    auto(l5)   f   18   29  p  compact\n",
       "2         audi    a4    1.8  1999    4  manual(m5)   f   21   29  p  compact\n",
       "3         audi    a4    2.0  2008    4  manual(m6)   f   20   31  p  compact\n",
       "4         audi    a4    2.0  2008    4    auto(av)   f   21   30  p  compact\n",
       "5         audi    a4    2.8  1999    6    auto(l5)   f   16   26  p  compact"
      ]
     },
     "execution_count": 30,
     "metadata": {},
     "output_type": "execute_result"
    }
   ],
   "source": [
    "#look at data\n",
    "df.head()"
   ]
  },
  {
   "cell_type": "code",
   "execution_count": 32,
   "metadata": {},
   "outputs": [],
   "source": [
    "#split data\n",
    "train, test = train_test_split(df, train_size=0.8, random_state=1349, stratify=df.drv)"
   ]
  },
  {
   "cell_type": "code",
   "execution_count": 33,
   "metadata": {},
   "outputs": [],
   "source": [
    "#split train\n",
    "train, validate = train_test_split(train, train_size= 0.7, random_state = 1349, stratify=train.drv)"
   ]
  },
  {
   "cell_type": "code",
   "execution_count": 47,
   "metadata": {},
   "outputs": [],
   "source": [
    "#make the thing- change max_depth to not overfit\n",
    "clf = RandomForestClassifier(max_depth=2)"
   ]
  },
  {
   "cell_type": "code",
   "execution_count": 48,
   "metadata": {
    "scrolled": true
   },
   "outputs": [
    {
     "data": {
      "text/plain": [
       "RandomForestClassifier(max_depth=2)"
      ]
     },
     "execution_count": 48,
     "metadata": {},
     "output_type": "execute_result"
    }
   ],
   "source": [
    "#fit the thing\n",
    "clf.fit(train[['displ', 'cty', 'hwy']], train.drv)"
   ]
  },
  {
   "cell_type": "code",
   "execution_count": 49,
   "metadata": {},
   "outputs": [],
   "source": [
    "y_pred = clf.predict(train[['displ', 'cty', 'hwy']])"
   ]
  },
  {
   "cell_type": "code",
   "execution_count": 50,
   "metadata": {},
   "outputs": [
    {
     "data": {
      "text/plain": [
       "0.7615384615384615"
      ]
     },
     "execution_count": 50,
     "metadata": {},
     "output_type": "execute_result"
    }
   ],
   "source": [
    "#score of train set\n",
    "clf.score(train[['displ', 'cty', 'hwy']], train.drv)"
   ]
  },
  {
   "cell_type": "code",
   "execution_count": 51,
   "metadata": {},
   "outputs": [
    {
     "data": {
      "text/plain": [
       "0.8596491228070176"
      ]
     },
     "execution_count": 51,
     "metadata": {},
     "output_type": "execute_result"
    }
   ],
   "source": [
    "#score of validate set\n",
    "clf.score(validate[['displ', 'cty', 'hwy']], validate.drv)"
   ]
  },
  {
   "cell_type": "code",
   "execution_count": 54,
   "metadata": {},
   "outputs": [],
   "source": [
    "y_pred_proba = clf.predict_proba(train[['displ', 'cty','hwy']])"
   ]
  },
  {
   "cell_type": "code",
   "execution_count": 55,
   "metadata": {},
   "outputs": [
    {
     "data": {
      "text/plain": [
       "array([[0.84200934, 0.01984414, 0.13814652],\n",
       "       [0.27757554, 0.6775154 , 0.04490906],\n",
       "       [0.82713233, 0.02610677, 0.1467609 ],\n",
       "       [0.21848734, 0.75675526, 0.0247574 ],\n",
       "       [0.20483405, 0.76256156, 0.03260439],\n",
       "       [0.48444985, 0.16721187, 0.34833827],\n",
       "       [0.20595806, 0.75480485, 0.03923709],\n",
       "       [0.47618062, 0.17394264, 0.34987674],\n",
       "       [0.26761709, 0.68607639, 0.04630652],\n",
       "       [0.4032249 , 0.52024164, 0.07653346],\n",
       "       [0.63999956, 0.0574945 , 0.30250594],\n",
       "       [0.4004138 , 0.44426315, 0.15532305],\n",
       "       [0.76532345, 0.13579396, 0.09888259],\n",
       "       [0.12165213, 0.86881341, 0.00953446],\n",
       "       [0.25562323, 0.58325166, 0.1611251 ],\n",
       "       [0.3641321 , 0.56793284, 0.06793506],\n",
       "       [0.49136661, 0.29730486, 0.21132853],\n",
       "       [0.85332355, 0.02055843, 0.12611802],\n",
       "       [0.42558293, 0.3143093 , 0.26010777],\n",
       "       [0.31337093, 0.57361027, 0.1130188 ],\n",
       "       [0.77892064, 0.01942606, 0.2016533 ],\n",
       "       [0.48615244, 0.33997781, 0.17386975],\n",
       "       [0.12165213, 0.86881341, 0.00953446],\n",
       "       [0.16640752, 0.81642698, 0.0171655 ],\n",
       "       [0.78098671, 0.01942606, 0.19958724],\n",
       "       [0.8291159 , 0.03269274, 0.13819136],\n",
       "       [0.26644933, 0.68329678, 0.05025389],\n",
       "       [0.24895346, 0.71070516, 0.04034137],\n",
       "       [0.3943565 , 0.52355553, 0.08208797],\n",
       "       [0.84647362, 0.02055843, 0.13296795],\n",
       "       [0.29232877, 0.50983385, 0.19783738],\n",
       "       [0.36160114, 0.17130781, 0.46709105],\n",
       "       [0.63999956, 0.0574945 , 0.30250594],\n",
       "       [0.17420203, 0.80832678, 0.01747119],\n",
       "       [0.35552717, 0.48552871, 0.15894412],\n",
       "       [0.26761709, 0.68607639, 0.04630652],\n",
       "       [0.14236746, 0.8453798 , 0.01225274],\n",
       "       [0.12165213, 0.86881341, 0.00953446],\n",
       "       [0.12165213, 0.86881341, 0.00953446],\n",
       "       [0.78628721, 0.01878089, 0.19493189],\n",
       "       [0.13423086, 0.85410992, 0.01165922],\n",
       "       [0.23386786, 0.72802147, 0.03811067],\n",
       "       [0.21844416, 0.75390251, 0.02765333],\n",
       "       [0.41213313, 0.50778384, 0.08008303],\n",
       "       [0.85332355, 0.02055843, 0.12611802],\n",
       "       [0.84777164, 0.03557085, 0.11665751],\n",
       "       [0.34270429, 0.59940173, 0.05789397],\n",
       "       [0.8291159 , 0.03269274, 0.13819136],\n",
       "       [0.12165213, 0.86881341, 0.00953446],\n",
       "       [0.39002668, 0.54033392, 0.0696394 ],\n",
       "       [0.26433959, 0.3213906 , 0.41426981],\n",
       "       [0.49502084, 0.33666392, 0.16831524],\n",
       "       [0.11995622, 0.87050931, 0.00953446],\n",
       "       [0.12165213, 0.86881341, 0.00953446],\n",
       "       [0.38410429, 0.55085853, 0.06503719],\n",
       "       [0.82501155, 0.0411192 , 0.13386925],\n",
       "       [0.11995622, 0.87050931, 0.00953446],\n",
       "       [0.21867968, 0.75346699, 0.02785333],\n",
       "       [0.20861438, 0.76705822, 0.0243274 ],\n",
       "       [0.85332355, 0.02055843, 0.12611802],\n",
       "       [0.71569594, 0.1891192 , 0.09518486],\n",
       "       [0.26761709, 0.68607639, 0.04630652],\n",
       "       [0.25024989, 0.71807949, 0.03167061],\n",
       "       [0.85332355, 0.02055843, 0.12611802],\n",
       "       [0.78628721, 0.01878089, 0.19493189],\n",
       "       [0.75962325, 0.01809309, 0.22228366],\n",
       "       [0.5535941 , 0.2110125 , 0.2353934 ],\n",
       "       [0.24895346, 0.71070516, 0.04034137],\n",
       "       [0.85332355, 0.02055843, 0.12611802],\n",
       "       [0.12165213, 0.86881341, 0.00953446],\n",
       "       [0.14260298, 0.84494428, 0.01245274],\n",
       "       [0.21637199, 0.75542986, 0.02819816],\n",
       "       [0.84989241, 0.02055843, 0.12954917],\n",
       "       [0.71954376, 0.1891192 , 0.09133704],\n",
       "       [0.78080236, 0.01878089, 0.20041674],\n",
       "       [0.78098671, 0.01942606, 0.19958724],\n",
       "       [0.17685182, 0.80573399, 0.01741418],\n",
       "       [0.61154506, 0.23311934, 0.1553356 ],\n",
       "       [0.26007967, 0.70492378, 0.03499655],\n",
       "       [0.41811124, 0.31971653, 0.26217223],\n",
       "       [0.14236746, 0.8453798 , 0.01225274],\n",
       "       [0.82501155, 0.0411192 , 0.13386925],\n",
       "       [0.12165213, 0.86881341, 0.00953446],\n",
       "       [0.71569594, 0.1891192 , 0.09518486],\n",
       "       [0.5255359 , 0.37283962, 0.10162447],\n",
       "       [0.84647362, 0.02055843, 0.13296795],\n",
       "       [0.41068504, 0.48438693, 0.10492803],\n",
       "       [0.27757554, 0.6775154 , 0.04490906],\n",
       "       [0.5535941 , 0.2110125 , 0.2353934 ],\n",
       "       [0.70662813, 0.01806471, 0.27530715],\n",
       "       [0.4032249 , 0.52024164, 0.07653346],\n",
       "       [0.14236746, 0.8453798 , 0.01225274],\n",
       "       [0.24589582, 0.70497277, 0.04913141],\n",
       "       [0.24143138, 0.72189801, 0.03667061],\n",
       "       [0.39552427, 0.52633513, 0.0781406 ],\n",
       "       [0.73640428, 0.01274893, 0.25084679],\n",
       "       [0.43012018, 0.30120751, 0.2686723 ],\n",
       "       [0.13963423, 0.84838178, 0.01198399],\n",
       "       [0.85332355, 0.02055843, 0.12611802],\n",
       "       [0.11995622, 0.87050931, 0.00953446],\n",
       "       [0.29183632, 0.61749488, 0.0906688 ],\n",
       "       [0.29183632, 0.61749488, 0.0906688 ],\n",
       "       [0.35759901, 0.5613837 , 0.08101729],\n",
       "       [0.8478387 , 0.02055843, 0.13160287],\n",
       "       [0.29034635, 0.32593791, 0.38371574],\n",
       "       [0.13423086, 0.85410992, 0.01165922],\n",
       "       [0.38146085, 0.53204292, 0.08649623],\n",
       "       [0.22731391, 0.73536893, 0.03731716],\n",
       "       [0.84925604, 0.01995237, 0.13079159],\n",
       "       [0.71553084, 0.17303536, 0.1114338 ],\n",
       "       [0.26644933, 0.68329678, 0.05025389],\n",
       "       [0.37640693, 0.28718427, 0.3364088 ],\n",
       "       [0.41955344, 0.48107304, 0.09937351],\n",
       "       [0.3943565 , 0.52355553, 0.08208797],\n",
       "       [0.23594003, 0.72649413, 0.03756584],\n",
       "       [0.48309738, 0.30403563, 0.21286699],\n",
       "       [0.18733818, 0.78996994, 0.02269188],\n",
       "       [0.26761709, 0.68607639, 0.04630652],\n",
       "       [0.47618062, 0.17394264, 0.34987674],\n",
       "       [0.37481857, 0.55990614, 0.06527528],\n",
       "       [0.85332355, 0.02055843, 0.12611802],\n",
       "       [0.82370118, 0.02610677, 0.15019205],\n",
       "       [0.78628721, 0.01878089, 0.19493189],\n",
       "       [0.3943565 , 0.52355553, 0.08208797],\n",
       "       [0.12165213, 0.86881341, 0.00953446],\n",
       "       [0.37481857, 0.55990614, 0.06527528],\n",
       "       [0.16640752, 0.81642698, 0.0171655 ],\n",
       "       [0.84200934, 0.01984414, 0.13814652],\n",
       "       [0.14236746, 0.8453798 , 0.01225274],\n",
       "       [0.75852482, 0.16341554, 0.07805965]])"
      ]
     },
     "execution_count": 55,
     "metadata": {},
     "output_type": "execute_result"
    }
   ],
   "source": [
    "#this will show you the probability of [display, city, highway]\n",
    "y_pred_proba"
   ]
  },
  {
   "cell_type": "code",
   "execution_count": null,
   "metadata": {},
   "outputs": [],
   "source": []
  }
 ],
 "metadata": {
  "kernelspec": {
   "display_name": "Python 3",
   "language": "python",
   "name": "python3"
  },
  "language_info": {
   "codemirror_mode": {
    "name": "ipython",
    "version": 3
   },
   "file_extension": ".py",
   "mimetype": "text/x-python",
   "name": "python",
   "nbconvert_exporter": "python",
   "pygments_lexer": "ipython3",
   "version": "3.8.5"
  }
 },
 "nbformat": 4,
 "nbformat_minor": 4
}
